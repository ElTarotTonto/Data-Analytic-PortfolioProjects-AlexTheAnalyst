{
 "cells": [
  {
   "cell_type": "markdown",
   "id": "19755aa7",
   "metadata": {},
   "source": [
    "# Automatic File Sorter in File Explorer"
   ]
  },
  {
   "cell_type": "code",
   "execution_count": 65,
   "id": "ba98e76a",
   "metadata": {},
   "outputs": [],
   "source": [
    "import os, shutil\n"
   ]
  },
  {
   "cell_type": "code",
   "execution_count": 77,
   "id": "3437d55f",
   "metadata": {},
   "outputs": [],
   "source": [
    "path = r\"C:/Users/carlo/OneDrive/Documents/Python_Test_File_Sorter/\""
   ]
  },
  {
   "cell_type": "code",
   "execution_count": 78,
   "id": "4ce4dd36",
   "metadata": {},
   "outputs": [
    {
     "data": {
      "text/plain": [
       "['csv files',\n",
       " 'image files',\n",
       " 'RWS_Tarot_00_Fool.jpg',\n",
       " 'Test Excel.xlsx',\n",
       " 'text files',\n",
       " 'xlsx files']"
      ]
     },
     "execution_count": 78,
     "metadata": {},
     "output_type": "execute_result"
    }
   ],
   "source": [
    "os.listdir(path)"
   ]
  },
  {
   "cell_type": "code",
   "execution_count": 79,
   "id": "f2d66fb3",
   "metadata": {},
   "outputs": [
    {
     "data": {
      "text/plain": [
       "True"
      ]
     },
     "execution_count": 79,
     "metadata": {},
     "output_type": "execute_result"
    }
   ],
   "source": [
    "os.path.exists(path)"
   ]
  },
  {
   "cell_type": "code",
   "execution_count": 80,
   "id": "c651071f",
   "metadata": {},
   "outputs": [],
   "source": [
    "file_name = os.listdir(path)"
   ]
  },
  {
   "cell_type": "code",
   "execution_count": 81,
   "id": "4bc35759",
   "metadata": {},
   "outputs": [
    {
     "name": "stdout",
     "output_type": "stream",
     "text": [
      "There are files in this path that were not moved!\n",
      "There are files in this path that were not moved!\n",
      "There are files in this path that were not moved!\n",
      "There are files in this path that were not moved!\n"
     ]
    }
   ],
   "source": [
    "folder_names = ['xlsx files','csv files','image files','text files']\n",
    "\n",
    "for i in range(0,3):\n",
    "    if not os.path.exists(path + folder_names[i]):\n",
    "        print(path + folder_names[i])\n",
    "        os.makedirs(path + folder_names[i])\n",
    "\n",
    "for i in file_name:\n",
    "    if \".xlsx\" in i and not os.path.exists(path + 'xlsx files/' + i):\n",
    "        shutil.move(path + i, path + 'xlsx files/' + i)\n",
    "    elif \".csv\" in i and not os.path.exists(path + 'csv files/' + i):\n",
    "        shutil.move(path + i, path + 'csv files/' + i)\n",
    "    elif \".jpg\" in i and not os.path.exists(path + 'image files/' + i):\n",
    "        shutil.move(path + i, path + 'image files/' + i)\n",
    "    elif \".txt\" in i and not os.path.exists(path + 'text files/' + i):\n",
    "        shutil.move(path + i, path + 'text files/' + i)\n",
    "    else:\n",
    "        print(\"There are files in this path that were not moved!\")\n",
    "        "
   ]
  },
  {
   "cell_type": "code",
   "execution_count": null,
   "id": "757acf55",
   "metadata": {},
   "outputs": [],
   "source": []
  },
  {
   "cell_type": "code",
   "execution_count": null,
   "id": "b5471059",
   "metadata": {},
   "outputs": [],
   "source": []
  },
  {
   "cell_type": "code",
   "execution_count": null,
   "id": "7d122bf0",
   "metadata": {},
   "outputs": [],
   "source": []
  },
  {
   "cell_type": "code",
   "execution_count": null,
   "id": "f23da80e",
   "metadata": {},
   "outputs": [],
   "source": []
  }
 ],
 "metadata": {
  "kernelspec": {
   "display_name": "Python 3 (ipykernel)",
   "language": "python",
   "name": "python3"
  },
  "language_info": {
   "codemirror_mode": {
    "name": "ipython",
    "version": 3
   },
   "file_extension": ".py",
   "mimetype": "text/x-python",
   "name": "python",
   "nbconvert_exporter": "python",
   "pygments_lexer": "ipython3",
   "version": "3.9.12"
  }
 },
 "nbformat": 4,
 "nbformat_minor": 5
}
