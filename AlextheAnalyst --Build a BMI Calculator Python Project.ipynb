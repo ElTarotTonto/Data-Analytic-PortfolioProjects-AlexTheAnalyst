{
 "cells": [
  {
   "cell_type": "markdown",
   "id": "655e5d51",
   "metadata": {},
   "source": [
    "# BMI CALCULATOR"
   ]
  },
  {
   "cell_type": "markdown",
   "id": "3c07f70a",
   "metadata": {},
   "source": [
    "###### https://mercer-health.com/#:~:text=Body%20Mass%20Index%2C%20or%20BMI,inches%20x%20height%20in%20inches"
   ]
  },
  {
   "cell_type": "code",
   "execution_count": 12,
   "id": "db5e8f06",
   "metadata": {},
   "outputs": [
    {
     "name": "stdout",
     "output_type": "stream",
     "text": [
      "Enter your name: Don_Khallos\n",
      "Enter your weight in pounds: 777777777\n",
      "Enter your height in inches: 7\n",
      "Hello Don_Khallos! Thank you for your patience! Upon results. Your BMI is 11158730147.571428\n",
      "Don_Khallos, you are Morbidly Obese.\n"
     ]
    }
   ],
   "source": [
    "name = input('Enter your name: ')\n",
    "\n",
    "weight = float(input(\"Enter your weight in pounds: \"))\n",
    "\n",
    "height = float(input(\"Enter your height in inches: \"))\n",
    "\n",
    "BMI = (weight) * 703 / (height * height)\n",
    "print(f\"Hello {name}! Thank you for your patience! Upon results. Your BMI is {BMI}\")\n",
    "\n",
    "if BMI>0:\n",
    "    if(BMI<18.5):\n",
    "        print(name +\", you are underweight.\")\n",
    "    elif(BMI<=24.9):\n",
    "        print(name +\", you are normalweight.\")\n",
    "    elif(BMI<=29.9):\n",
    "        print(name +\", you are overweight.\")\n",
    "    elif(BMI<=34.9):\n",
    "        print(name +\", you are Obese.\")\n",
    "    elif(BMI<=39.9):\n",
    "        print(name +\", you are Severly Obese.\")\n",
    "    elif(BMI>=40):\n",
    "        print(name +\", you are Morbidly Obese.\")\n",
    "else:\n",
    "    print(name +\", please enter valid inputs\")"
   ]
  },
  {
   "cell_type": "code",
   "execution_count": null,
   "id": "be86526f",
   "metadata": {},
   "outputs": [],
   "source": [
    "print(weight)"
   ]
  },
  {
   "cell_type": "code",
   "execution_count": 13,
   "id": "f032db06",
   "metadata": {},
   "outputs": [
    {
     "name": "stdout",
     "output_type": "stream",
     "text": [
      "24.207988980716255\n"
     ]
    }
   ],
   "source": [
    "print(BMI)"
   ]
  },
  {
   "cell_type": "code",
   "execution_count": null,
   "id": "1e35c56b",
   "metadata": {},
   "outputs": [],
   "source": [
    "# Under 18.5 -> Underweight -minimal\n",
    "# 18.5 - 24.9 -> Normal Weight -->Minimal\n",
    "# 25 - 29.9 - > Overweight --> Increased\n",
    "# 30 - 34.9  -> Obese -->High\n",
    "# 35 - 39.9---> Severly Obese - Very High\n",
    "# 40 and over - Morbidly Obese -> Extremely High"
   ]
  },
  {
   "cell_type": "code",
   "execution_count": 21,
   "id": "0a8f380e",
   "metadata": {},
   "outputs": [
    {
     "name": "stdout",
     "output_type": "stream",
     "text": [
      "You are normalweight.\n"
     ]
    }
   ],
   "source": [
    "if BMI>0:\n",
    "    if(BMI<18.5):\n",
    "        print(\"You are underweight.\")\n",
    "    elif(BMI<=24.9):\n",
    "        print(\"You are normalweight.\")\n",
    "    elif(BMI<=29.9):\n",
    "        print(\"You are overweight.\")\n",
    "    elif(BMI<=34.9):\n",
    "        print(\"You are Obese.\")\n",
    "    elif(BMI<=39.9):\n",
    "        print(\"You are Severly Obese.\")\n",
    "    elif(BMI>=40):\n",
    "        print(\"You are Severly Obese.\")\n",
    "    else:\n",
    "        print(\"Enter valid inputs\")"
   ]
  },
  {
   "cell_type": "code",
   "execution_count": null,
   "id": "a4a6c9e1",
   "metadata": {},
   "outputs": [],
   "source": []
  },
  {
   "cell_type": "code",
   "execution_count": null,
   "id": "38989cdd",
   "metadata": {},
   "outputs": [],
   "source": []
  },
  {
   "cell_type": "code",
   "execution_count": null,
   "id": "135dee7b",
   "metadata": {},
   "outputs": [],
   "source": []
  },
  {
   "cell_type": "code",
   "execution_count": null,
   "id": "52adf49a",
   "metadata": {},
   "outputs": [],
   "source": []
  },
  {
   "cell_type": "code",
   "execution_count": null,
   "id": "49a22efa",
   "metadata": {},
   "outputs": [],
   "source": []
  },
  {
   "cell_type": "code",
   "execution_count": 1,
   "id": "53198049",
   "metadata": {},
   "outputs": [],
   "source": [
    "# BMI = (Weight in pounds * 703) / (height in inches)"
   ]
  },
  {
   "cell_type": "code",
   "execution_count": null,
   "id": "27abd795",
   "metadata": {},
   "outputs": [],
   "source": []
  }
 ],
 "metadata": {
  "kernelspec": {
   "display_name": "Python 3 (ipykernel)",
   "language": "python",
   "name": "python3"
  },
  "language_info": {
   "codemirror_mode": {
    "name": "ipython",
    "version": 3
   },
   "file_extension": ".py",
   "mimetype": "text/x-python",
   "name": "python",
   "nbconvert_exporter": "python",
   "pygments_lexer": "ipython3",
   "version": "3.9.12"
  }
 },
 "nbformat": 4,
 "nbformat_minor": 5
}
